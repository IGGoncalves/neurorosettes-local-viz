{
 "cells": [
  {
   "cell_type": "markdown",
   "id": "65cee487",
   "metadata": {},
   "source": [
    "# Contact inhibition functions\n",
    "\n",
    "This notebook goes through how contact inhibition functions can be used to quantify the number of neighbrs around a cell and decide to stop proliferation based on this value."
   ]
  },
  {
   "cell_type": "code",
   "execution_count": 1,
   "id": "c759c237",
   "metadata": {},
   "outputs": [],
   "source": [
    "import numpy as np\n",
    "import vedo\n",
    "\n",
    "from neurorosettes.neurons import Neuron, NeuronFactory\n",
    "from neurorosettes.clocks import ClocksFactory\n",
    "from neurorosettes.subcellular import CellBody, ObjectFactory\n",
    "from neurorosettes.simulation import Container, Timer\n",
    "from neurorosettes import utilities\n",
    "from neurorosettes import physics\n",
    "from neurorosettes.grid import UniformGrid, OneLevelDensityCheck, TwoLevelsDensityCheck\n",
    "\n",
    "\n",
    "def create_tissue() -> list:\n",
    "    coordinates = [np.array([x + 8 * (i % 2), y, 0])\n",
    "                   for x in range(-40, 41, 16)\n",
    "                   for i, y in enumerate(range(-40, 41, 16))]\n",
    "    return coordinates"
   ]
  },
  {
   "cell_type": "markdown",
   "id": "e2f1a48a",
   "metadata": {},
   "source": [
    "## Creating objects and interactions"
   ]
  },
  {
   "cell_type": "code",
   "execution_count": 2,
   "id": "cce718b9",
   "metadata": {},
   "outputs": [],
   "source": [
    "# Define the mechanical parameters of the objects\n",
    "factory = ObjectFactory(\n",
    "    cell_radius=8.0,\n",
    "    cell_interaction_factor=1.25,\n",
    "    neurite_radius=1.0,\n",
    "    neurite_interaction_factor=2.0,\n",
    "    neurite_spring_constant=10.0,\n",
    "    neurite_default_length=15.0,\n",
    ")\n",
    "\n",
    "clocks = ClocksFactory(proliferation_rate=0.1, death_rate=0.1, differentiation_rate=0.1)\n",
    "\n",
    "neuron_factory = NeuronFactory(4, factory, clocks)\n",
    "\n",
    "# Define the mechanical parameters of the interactions\n",
    "contact_function = physics.PotentialsFactory(sphere_sphere_adhesion=0.4,\n",
    "                                             sphere_sphere_repulsion=10.0,\n",
    "                                             sphere_sphere_smoothness=1,\n",
    "                                             sphere_cylinder_adhesion=4.0,\n",
    "                                             sphere_cylinder_repulsion=10.0,\n",
    "                                             sphere_cylinder_smoothness=1,\n",
    "                                             cylinder_cylinder_adhesion=4.0,\n",
    "                                             cylinder_cylinder_repulsion=10.0,\n",
    "                                             cylinder_cylinder_smoothness=1)"
   ]
  },
  {
   "cell_type": "markdown",
   "id": "0ba1f22c",
   "metadata": {},
   "source": [
    "## One-level contact inhibition\n",
    "\n",
    "The one-level contact inhibition function evaluates the number of neighbors in the current cell of the domain grid, as well as the cells surrounding it. This function evaluates if the number of cell bodies registered in these cells is larger than a user-defined value."
   ]
  },
  {
   "cell_type": "code",
   "execution_count": 6,
   "id": "fb213107",
   "metadata": {},
   "outputs": [],
   "source": [
    "# Initialize simulation objects\n",
    "container = Container(grid=UniformGrid(*[-70, 70, 20]),\n",
    "                     simulation_2d=True,\n",
    "                     neuron_factory=neuron_factory,\n",
    "                     contact_factory=contact_function)\n",
    "\n",
    "for position in create_tissue():\n",
    "    # Populate environment with cells\n",
    "    neuron = container.create_new_neuron(position)\n",
    "    neuron.set_outgrowth_axis(utilities.get_random_unit_vector(two_dimensions=True))\n",
    "    neuron.clocks.set_clocks(0.04, 0.00000001, 0.0000002)\n",
    "    container.register_neuron(neuron)\n",
    "    \n",
    "neuron = container.neurons[29]\n",
    "container.neurons[29].cell.sphere.c(\"red\")\n",
    "\n",
    "cell_neighbors = [neighbor\n",
    "                  for neighbor in container.grid.get_close_cells(neuron.cell.position)]\n",
    "\n",
    "for cell in cell_neighbors:\n",
    "    if cell is not neuron.cell:\n",
    "        cell.sphere.c(\"orange\")\n",
    "\n",
    "container.animator.plotter.show(resetcam=False, interactive=False)\n",
    "container.animator.save_screenshot(\"../docs/img/one-level\")"
   ]
  },
  {
   "cell_type": "markdown",
   "id": "9461f5bb",
   "metadata": {},
   "source": [
    "## Two-levels contact inhibition\n",
    "\n",
    "The two-levels contact inhibition function performs the same evaluation as the one-level contact function and also checks the number of neighbors inside a user-defined radius."
   ]
  },
  {
   "cell_type": "code",
   "execution_count": 5,
   "id": "3f7849dc",
   "metadata": {},
   "outputs": [],
   "source": [
    "container = Container(grid=UniformGrid(*[-70, 70, 20]),\n",
    "                     simulation_2d=True,\n",
    "                                          neuron_factory=neuron_factory,\n",
    "\n",
    "                     contact_factory=contact_function)\n",
    "\n",
    "for position in create_tissue():\n",
    "    # Populate environment with cells\n",
    "    neuron = container.create_new_neuron(position)\n",
    "    neuron.set_outgrowth_axis(utilities.get_random_unit_vector(two_dimensions=True))\n",
    "    neuron.clocks.set_clocks(0.04, 0.00000001, 0.0000002)\n",
    "    container.register_neuron(neuron)\n",
    "    \n",
    "neuron = container.neurons[29]\n",
    "container.neurons[29].cell.sphere.c(\"lightblue\")\n",
    "\n",
    "cell_neighbors = [neighbor\n",
    "                  for neighbor in container.grid.get_close_cells(neuron.cell.position)]\n",
    "\n",
    "for cell in cell_neighbors:\n",
    "    if cell is not neuron.cell:\n",
    "        cell.sphere.c(\"orange\")\n",
    "        \n",
    "    if len(cell_neighbors) > 15:\n",
    "\n",
    "        acceptable_radius = 20\n",
    "        nearby = [neighbor for neighbor in cell_neighbors\n",
    "                  if np.linalg.norm(neighbor.position - neuron.cell.position) <= acceptable_radius]\n",
    "\n",
    "        for n in nearby:\n",
    "            if n is not neuron.cell:\n",
    "                n.sphere.c(\"yellow\")\n",
    "\n",
    "container.animator.plotter.show(resetcam=False, interactive=False)\n",
    "container.animator.save_screenshot(\"../docs/img/two-level\")"
   ]
  }
 ],
 "metadata": {
  "kernelspec": {
   "display_name": "Python 3.8.10 ('neurorosettes-m4UqJqZx-py3.8')",
   "language": "python",
   "name": "python3"
  },
  "language_info": {
   "codemirror_mode": {
    "name": "ipython",
    "version": 3
   },
   "file_extension": ".py",
   "mimetype": "text/x-python",
   "name": "python",
   "nbconvert_exporter": "python",
   "pygments_lexer": "ipython3",
   "version": "3.8.10"
  },
  "vscode": {
   "interpreter": {
    "hash": "f1e85e8add9c109817769b41c93e8d872947c87fe02f5cbf1a496e04bbbde27b"
   }
  }
 },
 "nbformat": 4,
 "nbformat_minor": 5
}
