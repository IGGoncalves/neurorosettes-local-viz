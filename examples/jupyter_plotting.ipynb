{
 "cells": [
  {
   "cell_type": "code",
   "execution_count": 2,
   "id": "21a06cbf",
   "metadata": {},
   "outputs": [
    {
     "data": {
      "application/vnd.jupyter.widget-view+json": {
       "model_id": "e8e03950234f49929efc21c7126f9ec2",
       "version_major": 2,
       "version_minor": 0
      },
      "text/plain": [
       "ViewInteractiveWidget(height=720, layout=Layout(height='auto', width='100%'), width=720)"
      ]
     },
     "metadata": {},
     "output_type": "display_data"
    }
   ],
   "source": [
    "%matplotlib notebook\n",
    "from neurorosettes.simulation import Simulation, Container\n",
    "import neurorosettes.utilities as utilities\n",
    "\n",
    "from vedo.io import screenshot, write\n",
    "from vedo.mesh import merge\n",
    "\n",
    "sim_world = Simulation.from_file(\"config.yml\")\n",
    "tissue = utilities.HexagonalTissue(size=80, spacing=25).get_coordinates()\n",
    "for position in tissue:\n",
    "    sim_world.container.create_new_neuron(position)\n",
    "sim_world.container.animator.plotter.show(interactive=True)"
   ]
  },
  {
   "cell_type": "code",
   "execution_count": 3,
   "id": "7fd2e48b",
   "metadata": {},
   "outputs": [
    {
     "data": {
      "text/plain": [
       "<vedo.plotter.Plotter at 0x7fe06417ad30>"
      ]
     },
     "execution_count": 3,
     "metadata": {},
     "output_type": "execute_result"
    }
   ],
   "source": [
    "screenshot(\"hex.png\")"
   ]
  },
  {
   "cell_type": "code",
   "execution_count": 10,
   "id": "7fa8237d",
   "metadata": {},
   "outputs": [
    {
     "data": {
      "application/vnd.jupyter.widget-view+json": {
       "model_id": "d1e1d18a6c794cea93893e06ce240014",
       "version_major": 2,
       "version_minor": 0
      },
      "text/plain": [
       "ViewInteractiveWidget(height=720, layout=Layout(height='auto', width='100%'), width=720)"
      ]
     },
     "metadata": {},
     "output_type": "display_data"
    }
   ],
   "source": [
    "%matplotlib notebook\n",
    "from neurorosettes.simulation import Simulation, Container\n",
    "import neurorosettes.utilities as utilities\n",
    "\n",
    "from vedo.io import screenshot, write\n",
    "from vedo.mesh import merge\n",
    "\n",
    "sim_world = Simulation.from_file(\"config.yml\")\n",
    "tissue = utilities.HexagonalTissue(size=80, spacing=25).get_coordinates()\n",
    "for position in tissue:\n",
    "    neuron = sim_world.container.create_new_neuron(position)\n",
    "    neuron.create_first_neurite(sim_world.container.object_factory)\n",
    "    neuron.neurites[0].create_neurite_representation(sim_world.container.animator)\n",
    "    sim_world.container.grid.register_neurite(neuron.neurites[0])\n",
    "\n",
    "sim_world.container.animator.plotter.show(interactive=True)"
   ]
  },
  {
   "cell_type": "code",
   "execution_count": 5,
   "id": "4321f7e1",
   "metadata": {},
   "outputs": [
    {
     "data": {
      "text/plain": [
       "<vedo.plotter.Plotter at 0x7fe06413c880>"
      ]
     },
     "execution_count": 5,
     "metadata": {},
     "output_type": "execute_result"
    }
   ],
   "source": [
    "screenshot(\"grid.png\")"
   ]
  },
  {
   "cell_type": "code",
   "execution_count": 12,
   "id": "2864b334",
   "metadata": {},
   "outputs": [
    {
     "name": "stdout",
     "output_type": "stream",
     "text": [
      "[(Cylinder)0x7f56944566a0, (Cylinder)0x7f5694456820, (Cylinder)0x7f568c42e280, (Cylinder)0x7f568c42e0a0, (Cylinder)0x7f568c42e4c0, (Cylinder)0x7f568c42e760, (Cylinder)0x7f568c42eac0, (Cylinder)0x7f568c42eb20, (Cylinder)0x7f568c42efa0, (Cylinder)0x7f568c42e2e0, (Cylinder)0x7f568c42e040, (Cylinder)0x7f568c42eb80, (Cylinder)0x7f568c42e160, (Cylinder)0x7f568c428ac0, (Cylinder)0x7f5694ad5520, (Cylinder)0x7f5694ad55e0]\n"
     ]
    },
    {
     "data": {
      "text/plain": [
       "(Mesh)0x7f568c42ef40"
      ]
     },
     "execution_count": 12,
     "metadata": {},
     "output_type": "execute_result"
    }
   ],
   "source": [
    "from vedo import Cylinder\n",
    "\n",
    "meshes = merge([neuron.cell.sphere for neuron in sim_world.container.neurons])\n",
    "cylinders = []\n",
    "\n",
    "for neuron in sim_world.container.neurons:\n",
    "    for neurite in neuron.neurites:\n",
    "        cylinder = Cylinder(pos=neurite.proximal_point+0.5*neurite.spring_axis, \n",
    "                            height=neurite.current_length, \n",
    "                            axis=neurite.spring_axis/neurite.current_length,\n",
    "                            r=neurite.mechanics.radius)\n",
    "        cylinders.append(cylinder)\n",
    "\n",
    "print(cylinders)\n",
    "\n",
    "cylinder_meshes = merge(cylinders)\n",
    "\n",
    "all_meshes = merge(meshes, cylinder_meshes)\n",
    "\n",
    "write(meshes, \"meshes.ply\")\n",
    "write(cylinder_meshes, \"cylinder_meshes.ply\")\n",
    "write(all_meshes, \"all_meshes.ply\")\n",
    "\n",
    "write(meshes, \"meshes.vtk\")\n",
    "write(cylinder_meshes, \"cylinder_meshes.vtk\")\n",
    "write(all_meshes, \"all_meshes.vtk\")"
   ]
  },
  {
   "cell_type": "code",
   "execution_count": 5,
   "id": "9aae3d0c",
   "metadata": {},
   "outputs": [
    {
     "data": {
      "application/vnd.jupyter.widget-view+json": {
       "model_id": "d40cc7c9f9864a5bada26c6e6d53c1b5",
       "version_major": 2,
       "version_minor": 0
      },
      "text/plain": [
       "ViewInteractiveWidget(height=960, layout=Layout(height='auto', width='100%'), width=960)"
      ]
     },
     "metadata": {},
     "output_type": "display_data"
    }
   ],
   "source": [
    "sim_world = Simulation.from_file(\"../../config.yml\")\n",
    "tissue = utilities.HexagonalTissue(size=80).get_coordinates()\n",
    "for position in tissue:\n",
    "    sim_world.container.create_new_neuron(position)\n",
    "sim_world.container.animator.plotter.show(interactive=True)"
   ]
  }
 ],
 "metadata": {
  "kernelspec": {
   "display_name": "Python 3.8.10 ('neurorosettes-m4UqJqZx-py3.8')",
   "language": "python",
   "name": "python3"
  },
  "language_info": {
   "codemirror_mode": {
    "name": "ipython",
    "version": 3
   },
   "file_extension": ".py",
   "mimetype": "text/x-python",
   "name": "python",
   "nbconvert_exporter": "python",
   "pygments_lexer": "ipython3",
   "version": "3.8.10"
  },
  "vscode": {
   "interpreter": {
    "hash": "f1e85e8add9c109817769b41c93e8d872947c87fe02f5cbf1a496e04bbbde27b"
   }
  }
 },
 "nbformat": 4,
 "nbformat_minor": 5
}
