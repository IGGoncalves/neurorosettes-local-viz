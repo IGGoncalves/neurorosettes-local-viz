{
 "cells": [
  {
   "cell_type": "code",
   "execution_count": 2,
   "id": "21a06cbf",
   "metadata": {},
   "outputs": [
    {
     "data": {
      "application/vnd.jupyter.widget-view+json": {
       "model_id": "fd0439847c9845399a00dd8bfd504320",
       "version_major": 2,
       "version_minor": 0
      },
      "text/plain": [
       "ViewInteractiveWidget(height=720, layout=Layout(height='auto', width='100%'), width=720)"
      ]
     },
     "metadata": {},
     "output_type": "display_data"
    }
   ],
   "source": [
    "%matplotlib notebook\n",
    "from neurorosettes.simulation import Simulation, Container\n",
    "import neurorosettes.utilities as utilities\n",
    "\n",
    "from vedo.io import screenshot, write\n",
    "from vedo.mesh import merge\n",
    "\n",
    "sim_world = Simulation.from_file(\"../../config.yml\")\n",
    "tissue = utilities.HexagonalTissue(size=80, spacing=25).get_coordinates()\n",
    "for position in tissue:\n",
    "    sim_world.container.create_new_neuron(position)\n",
    "sim_world.container.animator.plotter.show(interactive=True)"
   ]
  },
  {
   "cell_type": "code",
   "execution_count": 3,
   "id": "7fd2e48b",
   "metadata": {},
   "outputs": [
    {
     "data": {
      "text/plain": [
       "<vedo.plotter.Plotter at 0x7fe06417ad30>"
      ]
     },
     "execution_count": 3,
     "metadata": {},
     "output_type": "execute_result"
    }
   ],
   "source": [
    "screenshot(\"hex.png\")"
   ]
  },
  {
   "cell_type": "code",
   "execution_count": 4,
   "id": "7fa8237d",
   "metadata": {},
   "outputs": [
    {
     "data": {
      "application/vnd.jupyter.widget-view+json": {
       "model_id": "2c3304f1603d4649a11831baa3787174",
       "version_major": 2,
       "version_minor": 0
      },
      "text/plain": [
       "ViewInteractiveWidget(height=720, layout=Layout(height='auto', width='100%'), width=720)"
      ]
     },
     "metadata": {},
     "output_type": "display_data"
    }
   ],
   "source": [
    "%matplotlib notebook\n",
    "from neurorosettes.simulation import Simulation, Container\n",
    "import neurorosettes.utilities as utilities\n",
    "\n",
    "from vedo.io import screenshot, write\n",
    "from vedo.mesh import merge\n",
    "\n",
    "sim_world = Simulation.from_file(\"../../config.yml\")\n",
    "sim_world.container.animator.plotter.show(interactive=True)"
   ]
  },
  {
   "cell_type": "code",
   "execution_count": 5,
   "id": "4321f7e1",
   "metadata": {},
   "outputs": [
    {
     "data": {
      "text/plain": [
       "<vedo.plotter.Plotter at 0x7fe06413c880>"
      ]
     },
     "execution_count": 5,
     "metadata": {},
     "output_type": "execute_result"
    }
   ],
   "source": [
    "screenshot(\"grid.png\")"
   ]
  },
  {
   "cell_type": "code",
   "execution_count": 21,
   "id": "2864b334",
   "metadata": {},
   "outputs": [
    {
     "data": {
      "text/plain": [
       "(Mesh)000001C603540108"
      ]
     },
     "execution_count": 21,
     "metadata": {},
     "output_type": "execute_result"
    }
   ],
   "source": [
    "meshes = merge([neuron.cell.sphere for neuron in sim_world.container.neurons])\n",
    "write(meshes, \"meshes.png\")"
   ]
  },
  {
   "cell_type": "code",
   "execution_count": 5,
   "id": "9aae3d0c",
   "metadata": {},
   "outputs": [
    {
     "data": {
      "application/vnd.jupyter.widget-view+json": {
       "model_id": "d40cc7c9f9864a5bada26c6e6d53c1b5",
       "version_major": 2,
       "version_minor": 0
      },
      "text/plain": [
       "ViewInteractiveWidget(height=960, layout=Layout(height='auto', width='100%'), width=960)"
      ]
     },
     "metadata": {},
     "output_type": "display_data"
    }
   ],
   "source": [
    "sim_world = Simulation.from_file(\"../../config.yml\")\n",
    "tissue = utilities.HexagonalTissue(size=80).get_coordinates()\n",
    "for position in tissue:\n",
    "    sim_world.container.create_new_neuron(position)\n",
    "sim_world.container.animator.plotter.show(interactive=True)"
   ]
  }
 ],
 "metadata": {
  "kernelspec": {
   "display_name": "Python 3 (ipykernel)",
   "language": "python",
   "name": "python3"
  },
  "language_info": {
   "codemirror_mode": {
    "name": "ipython",
    "version": 3
   },
   "file_extension": ".py",
   "mimetype": "text/x-python",
   "name": "python",
   "nbconvert_exporter": "python",
   "pygments_lexer": "ipython3",
   "version": "3.7.0"
  }
 },
 "nbformat": 4,
 "nbformat_minor": 5
}
