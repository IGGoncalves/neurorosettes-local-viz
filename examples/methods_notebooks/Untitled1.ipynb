{
 "cells": [
  {
   "cell_type": "code",
   "execution_count": 17,
   "id": "9e0f5fc0",
   "metadata": {},
   "outputs": [
    {
     "data": {
      "text/plain": [
       "<vedo.plotter.Plotter at 0x1c6034909b0>"
      ]
     },
     "execution_count": 17,
     "metadata": {},
     "output_type": "execute_result"
    }
   ],
   "source": [
    "%matplotlib notebook\n",
    "from neurorosettes.simulation import Simulation, Container\n",
    "import neurorosettes.utilities as utilities\n",
    "\n",
    "from vedo.io import screenshot, write\n",
    "from vedo.mesh import merge\n",
    "\n",
    "sim_world = Simulation.from_file(\"../../config.yml\")\n",
    "tissue = utilities.RectangularTissue(size=40).get_coordinates()\n",
    "for position in tissue:\n",
    "    sim_world.container.create_new_neuron(position)\n",
    "sim_world.container.animator.plotter.show(interactive=True)"
   ]
  },
  {
   "cell_type": "code",
   "execution_count": null,
   "id": "7081c88a",
   "metadata": {},
   "outputs": [],
   "source": [
    "screenshot(\"no_.png\")"
   ]
  },
  {
   "cell_type": "code",
   "execution_count": 21,
   "id": "06267ad8",
   "metadata": {},
   "outputs": [
    {
     "data": {
      "text/plain": [
       "(Mesh)000001C603540108"
      ]
     },
     "execution_count": 21,
     "metadata": {},
     "output_type": "execute_result"
    }
   ],
   "source": [
    "meshes = merge([neuron.cell.sphere for neuron in sim_world.container.neurons])\n",
    "write(meshes, \"meshes.png\")"
   ]
  }
 ],
 "metadata": {
  "kernelspec": {
   "display_name": "neurorosettes-tcdyww8N-py3.7",
   "language": "python",
   "name": "neurorosettes-tcdyww8n-py3.7"
  },
  "language_info": {
   "codemirror_mode": {
    "name": "ipython",
    "version": 3
   },
   "file_extension": ".py",
   "mimetype": "text/x-python",
   "name": "python",
   "nbconvert_exporter": "python",
   "pygments_lexer": "ipython3",
   "version": "3.7.0"
  }
 },
 "nbformat": 4,
 "nbformat_minor": 5
}
