{
 "cells": [
  {
   "cell_type": "code",
   "execution_count": 1,
   "id": "21a06cbf",
   "metadata": {},
   "outputs": [
    {
     "data": {
      "application/vnd.jupyter.widget-view+json": {
       "model_id": "ec4bd158b0aa46de98beaeff96304bdd",
       "version_major": 2,
       "version_minor": 0
      },
      "text/plain": [
       "ViewInteractiveWidget(height=720, layout=Layout(height='auto', width='100%'), width=720)"
      ]
     },
     "metadata": {},
     "output_type": "display_data"
    }
   ],
   "source": [
    "%matplotlib notebook\n",
    "from neurorosettes.simulation import Simulation, Container\n",
    "import neurorosettes.utilities as utilities\n",
    "\n",
    "from vedo.io import screenshot, write\n",
    "from vedo.mesh import merge\n",
    "\n",
    "sim_world = Simulation.from_file(\"../../config.yml\")\n",
    "tissue = utilities.RectangularTissue(size=80, spacing=25).get_coordinates()\n",
    "for position in tissue:\n",
    "    sim_world.container.create_new_neuron(position)\n",
    "sim_world.container.animator.plotter.show(interactive=True)"
   ]
  },
  {
   "cell_type": "code",
   "execution_count": 36,
   "id": "7fd2e48b",
   "metadata": {},
   "outputs": [
    {
     "data": {
      "text/plain": [
       "<vedo.plotter.Plotter at 0x1c606305208>"
      ]
     },
     "execution_count": 36,
     "metadata": {},
     "output_type": "execute_result"
    }
   ],
   "source": [
    "screenshot(\"sparse.png\")"
   ]
  },
  {
   "cell_type": "code",
   "execution_count": 21,
   "id": "2864b334",
   "metadata": {},
   "outputs": [
    {
     "data": {
      "text/plain": [
       "(Mesh)000001C603540108"
      ]
     },
     "execution_count": 21,
     "metadata": {},
     "output_type": "execute_result"
    }
   ],
   "source": [
    "meshes = merge([neuron.cell.sphere for neuron in sim_world.container.neurons])\n",
    "write(meshes, \"meshes.png\")"
   ]
  },
  {
   "cell_type": "code",
   "execution_count": 5,
   "id": "9aae3d0c",
   "metadata": {},
   "outputs": [
    {
     "data": {
      "application/vnd.jupyter.widget-view+json": {
       "model_id": "d40cc7c9f9864a5bada26c6e6d53c1b5",
       "version_major": 2,
       "version_minor": 0
      },
      "text/plain": [
       "ViewInteractiveWidget(height=960, layout=Layout(height='auto', width='100%'), width=960)"
      ]
     },
     "metadata": {},
     "output_type": "display_data"
    }
   ],
   "source": [
    "sim_world = Simulation.from_file(\"../../config.yml\")\n",
    "tissue = utilities.HexagonalTissue(size=80).get_coordinates()\n",
    "for position in tissue:\n",
    "    sim_world.container.create_new_neuron(position)\n",
    "sim_world.container.animator.plotter.show(interactive=True)"
   ]
  }
 ],
 "metadata": {
  "kernelspec": {
   "display_name": "Python 3",
   "language": "python",
   "name": "python3"
  },
  "language_info": {
   "codemirror_mode": {
    "name": "ipython",
    "version": 3
   },
   "file_extension": ".py",
   "mimetype": "text/x-python",
   "name": "python",
   "nbconvert_exporter": "python",
   "pygments_lexer": "ipython3",
   "version": "3.8.10"
  }
 },
 "nbformat": 4,
 "nbformat_minor": 5
}
