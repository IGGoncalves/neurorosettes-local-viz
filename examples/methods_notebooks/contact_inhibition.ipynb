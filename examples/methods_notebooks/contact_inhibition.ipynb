{
 "cells": [
  {
   "cell_type": "markdown",
   "id": "65cee487",
   "metadata": {},
   "source": [
    "# Contact inhibition functions\n",
    "\n",
    "This notebook goes through how contact inhibition functions can be used to quantify the number of neighbrs around a cell and decide to stop proliferation based on this value."
   ]
  },
  {
   "cell_type": "code",
   "execution_count": 4,
   "id": "c759c237",
   "metadata": {},
   "outputs": [],
   "source": [
    "import numpy as np\n",
    "import vedo\n",
    "\n",
    "from neurorosettes.neurons import Neuron, NeuronFactory\n",
    "from neurorosettes.clocks import ClocksFactory\n",
    "from neurorosettes.subcellular import CellBody, ObjectFactory\n",
    "from neurorosettes.simulation import Container, Timer\n",
    "from neurorosettes import utilities\n",
    "from neurorosettes import physics\n",
    "from neurorosettes.grid import UniformGrid, OneLevelDensityCheck, TwoLevelsDensityCheck\n",
    "\n",
    "\n",
    "def create_tissue() -> list:\n",
    "    coordinates = [np.array([x + 8 * (i % 2), y, 0])\n",
    "                   for x in range(-40, 41, 16)\n",
    "                   for i, y in enumerate(range(-40, 41, 16))]\n",
    "    return coordinates"
   ]
  },
  {
   "cell_type": "markdown",
   "id": "e2f1a48a",
   "metadata": {},
   "source": [
    "## Creating objects and interactions"
   ]
  },
  {
   "cell_type": "code",
   "execution_count": 6,
   "id": "cce718b9",
   "metadata": {},
   "outputs": [],
   "source": [
    "# Define the mechanical parameters of the objects\n",
    "factory = ObjectFactory(\n",
    "    cell_radius=8.0,\n",
    "    cell_interaction_factor=1.25,\n",
    "    neurite_radius=1.0,\n",
    "    neurite_interaction_factor=2.0,\n",
    "    neurite_spring_constant=10.0,\n",
    "    neurite_default_length=15.0,\n",
    ")\n",
    "\n",
    "clocks = ClocksFactory(proliferation_rate=0.1, death_rate=0.1, differentiation_rate=0.1)\n",
    "\n",
    "neuron_factory = NeuronFactory(4, factory, clocks)\n",
    "\n",
    "# Define the mechanical parameters of the interactions\n",
    "contact_function = physics.PotentialsFactory(sphere_sphere_adhesion=0.4,\n",
    "                                             sphere_sphere_repulsion=10.0,\n",
    "                                             sphere_sphere_smoothness=1,\n",
    "                                             sphere_cylinder_adhesion=4.0,\n",
    "                                             sphere_cylinder_repulsion=10.0,\n",
    "                                             sphere_cylinder_smoothness=1,\n",
    "                                             cylinder_cylinder_adhesion=4.0,\n",
    "                                             cylinder_cylinder_repulsion=10.0,\n",
    "                                             cylinder_cylinder_smoothness=1)"
   ]
  },
  {
   "cell_type": "markdown",
   "id": "0ba1f22c",
   "metadata": {},
   "source": [
    "## One-level contact inhibition\n",
    "\n",
    "The one-level contact inhibition function evaluates the number of neighbors in the current cell of the domain grid, as well as the cells surrounding it. This function evaluates if the number of cell bodies registered in these cells is larger than a user-defined value."
   ]
  },
  {
   "cell_type": "code",
   "execution_count": 9,
   "id": "fb213107",
   "metadata": {},
   "outputs": [
    {
     "data": {
      "application/vnd.jupyter.widget-view+json": {
       "model_id": "88843c90dca24b0388a60e3e65283aa8",
       "version_major": 2,
       "version_minor": 0
      },
      "text/plain": [
       "ViewInteractiveWidget(height=720, layout=Layout(height='auto', width='100%'), width=720)"
      ]
     },
     "metadata": {},
     "output_type": "display_data"
    }
   ],
   "source": [
    "# Initialize simulation objects\n",
    "container = Container(grid=UniformGrid(*[-70, 70, 20]),\n",
    "                     simulation_2d=True,\n",
    "                     neuron_factory=neuron_factory,\n",
    "                     contact_factory=contact_function)\n",
    "\n",
    "for position in create_tissue():\n",
    "    # Populate environment with cells\n",
    "    neuron = container.create_new_neuron(position)\n",
    "    neuron.set_outgrowth_axis(utilities.get_random_unit_vector(two_dimensions=True))\n",
    "    neuron.clocks.set_clocks(0.04, 0.00000001, 0.0000002)\n",
    "    container.register_neuron(neuron)\n",
    "    \n",
    "neuron = container.neurons[29]\n",
    "container.neurons[29].cell.sphere.c(\"lightgrey\")\n",
    "\n",
    "cell_neighbors = [neighbor\n",
    "                  for neighbor in container.grid.get_close_cells(neuron.cell.position)]\n",
    "\n",
    "for cell in cell_neighbors:\n",
    "    if cell is not neuron.cell:\n",
    "        cell.sphere.c(\"orange\")\n",
    "\n",
    "container.animator.plotter.show(resetcam=False, interactive=False)"
   ]
  },
  {
   "cell_type": "code",
   "execution_count": 63,
   "id": "3f7849dc",
   "metadata": {},
   "outputs": [
    {
     "data": {
      "application/vnd.jupyter.widget-view+json": {
       "model_id": "f6c2ba0b534a430da363d83a5203bfd0",
       "version_major": 2,
       "version_minor": 0
      },
      "text/plain": [
       "ViewInteractiveWidget(height=720, layout=Layout(height='auto', width='100%'), width=720)"
      ]
     },
     "metadata": {},
     "output_type": "display_data"
    }
   ],
   "source": [
    "container = Container(grid=UniformGrid(*[-70, 70, 20]),\n",
    "                     simulation_2d=True,\n",
    "                     object_factory=factory,\n",
    "                     contact_factory=contact_function)\n",
    "\n",
    "for position in create_tissue():\n",
    "    # Populate environment with cells\n",
    "    neuron = container.create_new_neuron(position)\n",
    "    neuron.set_outgrowth_axis(utilities.get_random_unit_vector(two_dimensions=True))\n",
    "    neuron.clocks.set_clocks(0.04, 0.00000001, 0.0000002)\n",
    "    container.register_neuron(neuron)\n",
    "    \n",
    "neuron = container.neurons[29]\n",
    "container.neurons[29].cell.sphere.c(\"lightblue\")\n",
    "\n",
    "cell_neighbors = [neighbor\n",
    "                  for neighbor in container.grid.get_close_cells(neuron.cell.position)]\n",
    "\n",
    "for cell in cell_neighbors:\n",
    "    if cell is not neuron.cell:\n",
    "        cell.sphere.c(\"orange\")\n",
    "        \n",
    "    if len(cell_neighbors) > 15:\n",
    "\n",
    "        acceptable_radius = 20\n",
    "        nearby = [neighbor for neighbor in cell_neighbors\n",
    "                  if np.linalg.norm(neighbor.position - neuron.cell.position) <= acceptable_radius]\n",
    "\n",
    "        for n in nearby:\n",
    "            if n is not neuron.cell:\n",
    "                n.sphere.c(\"yellow\")\n",
    "\n",
    "container.animator.plotter.show(resetcam=False, interactive=False)"
   ]
  },
  {
   "cell_type": "code",
   "execution_count": 56,
   "id": "aa06f7e6",
   "metadata": {},
   "outputs": [
    {
     "data": {
      "text/plain": [
       "<vedo.plotter.Plotter at 0x7f499c7e5580>"
      ]
     },
     "execution_count": 56,
     "metadata": {},
     "output_type": "execute_result"
    }
   ],
   "source": [
    "vedo.screenshot(\"two_level.png\")"
   ]
  },
  {
   "cell_type": "markdown",
   "id": "553746aa",
   "metadata": {},
   "source": [
    "## Two-level contact inhibition\n",
    "\n",
    "The two-level contact inhibition function consists of a first level that does the same as the one-level contact inhibition function, plus an additional evaluation. In this second level, the number of neighbors inside a user-defined radius of interest is evaluated, to assess if cells are fully surrounded by other cells or if there is some direction in which growth is possible."
   ]
  },
  {
   "cell_type": "code",
   "execution_count": 5,
   "id": "85f78db1",
   "metadata": {},
   "outputs": [
    {
     "data": {
      "application/vnd.jupyter.widget-view+json": {
       "model_id": "7174a1ec08eb4132bf56c4bec7140d0f",
       "version_major": 2,
       "version_minor": 0
      },
      "text/plain": [
       "ViewInteractiveWidget(height=720, layout=Layout(height='auto', width='100%'), width=720)"
      ]
     },
     "metadata": {},
     "output_type": "display_data"
    }
   ],
   "source": [
    "for position in create_tissue():\n",
    "    # Populate environment with cells\n",
    "    neuron = container.create_new_neuron(position)\n",
    "    neuron.set_outgrowth_axis(utilities.get_random_unit_vector(two_dimensions=True))\n",
    "    neuron.clocks.set_clocks(0.04, 0.00000001, 0.0000002)\n",
    "    container.register_neuron(neuron)\n",
    "\n",
    "container.animator.plotter += clock\n",
    "container.animator.plotter += legend_outline\n",
    "container.animator.plotter += legend\n",
    "container.animator.plotter += cycling_legend\n",
    "container.animator.plotter += cycling_text\n",
    "container.animator.plotter += blocked_legend\n",
    "container.animator.plotter += blocked_text\n",
    "container.animator.plotter += active_legend\n",
    "container.animator.plotter += active_text\n",
    "container.animator.plotter += neighbor_legend\n",
    "container.animator.plotter += neighbor_text\n",
    "container.animator.plotter += nearby_legend\n",
    "container.animator.plotter += nearby_text\n",
    "\n",
    "container.animator.plotter.show(resetcam=False, interactive=False)\n",
    "blocked_cells = []\n",
    "\n",
    "# Run and plot simulation\n",
    "for t in pb.range():\n",
    "    if t % 5 == 0:\n",
    "        container.advance_cycles(step)\n",
    "        container.kill()\n",
    "        container.differentiate()\n",
    "\n",
    "        for neuron in container.neurons:\n",
    "            if not neuron.ready_for_division:\n",
    "                continue\n",
    "\n",
    "            cell_neighbors = [neighbor\n",
    "                              for neighbor in container.grid.get_close_objects(neuron.cell.position)\n",
    "                              if isinstance(neighbor, CellBody)]\n",
    "\n",
    "            if len(cell_neighbors) > 15:\n",
    "\n",
    "                acceptable_radius = neuron.cell.mechanics.radius * 2.1\n",
    "                nearby = [neighbor for neighbor in cell_neighbors\n",
    "                          if np.linalg.norm(neighbor.position - neuron.cell.position) <= acceptable_radius]\n",
    "\n",
    "                if len(nearby) < 7:\n",
    "                    continue\n",
    "\n",
    "                neuron.cell.sphere.c(\"blue\")\n",
    "                for neighbor in cell_neighbors:\n",
    "                    if neighbor is neuron.cell:\n",
    "                        continue\n",
    "                    if neighbor in nearby:\n",
    "                        neighbor.sphere.c(\"brown\")\n",
    "                    else:\n",
    "                        neighbor.sphere.c(\"yellow\")\n",
    "\n",
    "                container.update_drawings()\n",
    "                for neighbor in cell_neighbors:\n",
    "                    if neighbor is neuron.cell:\n",
    "                        neighbor.sphere.c(\"black\")\n",
    "                        blocked_cells.append(neighbor)\n",
    "                    else:\n",
    "                        if neighbor not in blocked_cells:\n",
    "                            neighbor.sphere.c(\"red\")\n",
    "                        else:\n",
    "                            neighbor.sphere.c(\"black\")\n",
    "\n",
    "                container.update_drawings()\n",
    "                neuron.clocks.cycle_clock.division_signal = False\n",
    "                neuron.clocks.cycle_clock.cycle_block = True\n",
    "\n",
    "        container.divide()\n",
    "    container.update_cell_positions()\n",
    "    container.update_drawings()\n",
    "    container.animator.plotter.show()\n",
    "\n",
    "    if t % 50 == 0:\n",
    "        clock.text(f\"Simulation step: {t}\")\n",
    "\n",
    "\n",
    "container.animator.plotter.show(interactive=True)"
   ]
  }
 ],
 "metadata": {
  "kernelspec": {
   "display_name": "Python 3 (ipykernel)",
   "language": "python",
   "name": "python3"
  },
  "language_info": {
   "codemirror_mode": {
    "name": "ipython",
    "version": 3
   },
   "file_extension": ".py",
   "mimetype": "text/x-python",
   "name": "python",
   "nbconvert_exporter": "python",
   "pygments_lexer": "ipython3",
   "version": "3.7.0"
  }
 },
 "nbformat": 4,
 "nbformat_minor": 5
}
